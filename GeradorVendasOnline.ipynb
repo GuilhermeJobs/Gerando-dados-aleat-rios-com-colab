{
  "nbformat": 4,
  "nbformat_minor": 0,
  "metadata": {
    "colab": {
      "provenance": [],
      "authorship_tag": "ABX9TyNrQ7Y5DdOUcaJSNN8DiPfe",
      "include_colab_link": true
    },
    "kernelspec": {
      "name": "python3",
      "display_name": "Python 3"
    },
    "language_info": {
      "name": "python"
    }
  },
  "cells": [
    {
      "cell_type": "markdown",
      "metadata": {
        "id": "view-in-github",
        "colab_type": "text"
      },
      "source": [
        "<a href=\"https://colab.research.google.com/github/GuilhermeJobs/Gerando-dados-aleat-rios-com-colab/blob/main/GeradorVendasOnline.ipynb\" target=\"_parent\"><img src=\"https://colab.research.google.com/assets/colab-badge.svg\" alt=\"Open In Colab\"/></a>"
      ]
    },
    {
      "cell_type": "markdown",
      "source": [
        "Gerador de tabelas de dados\n",
        "- Data\n",
        "- Produto\n",
        "- Região\n",
        "- Vendas\n",
        "\n",
        "By: Guilherme Ferreira"
      ],
      "metadata": {
        "id": "zUavK_ownlVE"
      }
    },
    {
      "cell_type": "code",
      "execution_count": 1,
      "metadata": {
        "id": "vz7zlMzyhtwk"
      },
      "outputs": [],
      "source": [
        "import pandas as pd\n",
        "import numpy as np\n",
        "from datetime import datetime, timedelta\n",
        "\n",
        "# Definindo o número de registros para cada tabela\n",
        "num_produtos = 50\n",
        "num_datas_por_ano = 365\n",
        "num_regioes = 4\n",
        "num_vendas = 10000\n",
        "\n",
        "# Definindo categorias de produtos\n",
        "categorias = ['Eletrônicos', 'Vestuário', 'Casa e Jardim', 'Alimentos', 'Esportes']\n",
        "\n",
        "# Gerando dados para Dim_Produto\n",
        "produtos = pd.DataFrame({\n",
        "    'ProdutoID': range(1, num_produtos + 1),\n",
        "    'NomeProduto': ['Produto ' + str(i) for i in range(1, num_produtos + 1)],\n",
        "    'Categoria': np.random.choice(categorias, num_produtos),\n",
        "    'PrecoUnitario': np.random.randint(10, 500, num_produtos)\n",
        "})\n",
        "\n",
        "# Gerando dados para Dim_Regiao\n",
        "regioes = pd.DataFrame({\n",
        "    'RegiaoID': range(1, num_regioes + 1),\n",
        "    'NomeRegiao': ['Região ' + str(i) for i in range(1, num_regioes + 1)]\n",
        "})\n",
        "\n",
        "# Gerando dados para Dim_Data\n",
        "data_inicial = datetime(2020, 1, 1)\n",
        "datas = pd.DataFrame({\n",
        "    'Data': [data_inicial + timedelta(days=i) for i in range(num_datas_por_ano * 4)],\n",
        "    'Ano': [(data_inicial + timedelta(days=i)).year for i in range(num_datas_por_ano * 4)],\n",
        "    'Mes': [(data_inicial + timedelta(days=i)).month for i in range(num_datas_por_ano * 4)],\n",
        "    'Dia': [(data_inicial + timedelta(days=i)).day for i in range(num_datas_por_ano * 4)]\n",
        "})\n",
        "\n",
        "# Gerando dados para Fato_Vendas\n",
        "fato_vendas = pd.DataFrame({\n",
        "    'VendaID': range(1, num_vendas + 1),\n",
        "    'DataID': np.random.randint(1, num_datas_por_ano * 4, num_vendas),\n",
        "    'ProdutoID': np.random.randint(1, num_produtos + 1, num_vendas),\n",
        "    'RegiaoID': np.random.randint(1, num_regioes + 1, num_vendas),\n",
        "    'QuantidadeVendida': np.random.randint(1, 100, num_vendas),\n",
        "    'ValorVenda': np.random.randint(10, 500, num_vendas)\n",
        "})\n",
        "\n",
        "# Exportando para CSV\n",
        "produtos.to_csv('Dim_Produto.csv', index=False)\n",
        "regioes.to_csv('Dim_Regiao.csv', index=False)\n",
        "datas.to_csv('Dim_Data.csv', index=False)\n",
        "fato_vendas.to_csv('Fato_Vendas.csv', index=False)\n"
      ]
    }
  ]
}